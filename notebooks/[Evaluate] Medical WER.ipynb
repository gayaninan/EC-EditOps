{
 "cells": [
  {
   "cell_type": "code",
   "execution_count": 1,
   "id": "7326346b-d504-41cc-b12f-82a85a8e3642",
   "metadata": {},
   "outputs": [],
   "source": [
    "import pandas as pd\n",
    "import json\n",
    "from datasets import load_dataset"
   ]
  },
  {
   "cell_type": "code",
   "execution_count": 2,
   "id": "e5d2ed0f-a52e-469a-a0d7-67fbedbe6139",
   "metadata": {},
   "outputs": [],
   "source": [
    "def load_medical_dict(file_path):\n",
    "    with open(file_path, 'r') as file:\n",
    "        medical_dict = json.load(file)\n",
    "    medical_terms = set(term for terms in medical_dict.values() for term in terms)\n",
    "    return medical_terms\n",
    "\n",
    "def medical_wer(refs, hyp, medical_terms):\n",
    "    ref_words = refs.lower().split()\n",
    "    hyp_words = hyp.lower().split()\n",
    "\n",
    "    ref_words_medical = [word for word in ref_words if word in medical_terms]\n",
    "    hyp_words_medical = [word for word in hyp_words if word in medical_terms]\n",
    "\n",
    "    dp = [[0] * (len(hyp_words_medical) + 1) for _ in range(len(ref_words_medical) + 1)]\n",
    "    for i in range(len(ref_words_medical) + 1):\n",
    "        for j in range(len(hyp_words_medical) + 1):\n",
    "            if i == 0:\n",
    "                dp[i][j] = j\n",
    "            elif j == 0:\n",
    "                dp[i][j] = i\n",
    "            elif ref_words_medical[i - 1] == hyp_words_medical[j - 1]:\n",
    "                dp[i][j] = dp[i - 1][j - 1]\n",
    "            else:\n",
    "                dp[i][j] = 1 + min(dp[i - 1][j], dp[i][j - 1], dp[i - 1][j - 1])\n",
    "\n",
    "    edit_distance = dp[-1][-1]\n",
    "    \n",
    "    if len(ref_words_medical) == 0:\n",
    "        return 0 if len(hyp_words_medical) == 0 else 1\n",
    "    return edit_distance / len(ref_words_medical)\n"
   ]
  },
  {
   "cell_type": "code",
   "execution_count": 10,
   "id": "08faf3a2-d4e9-450a-8342-8505a66654bb",
   "metadata": {},
   "outputs": [],
   "source": [
    "def get_medical_wer(dataset):\n",
    "    # data = load_dataset(dataset)\n",
    "    df = pd.read_csv(dataset)\n",
    "\n",
    "    df = df.dropna()\n",
    "\n",
    "    df['baseline_medical_WER'] = df.apply(lambda row: medical_wer(row['refs'], row['trans'], medical_terms), axis=1)\n",
    "    df['model_medical_WER'] = df.apply(lambda row: medical_wer(row['refs'], row['model_corrected'], medical_terms), axis=1)\n",
    "\n",
    "    # Calculate and print the average improvement\n",
    "    baseline = df['baseline_medical_WER'].mean()\n",
    "    models = df['model_medical_WER'].mean()\n",
    "\n",
    "    print(f\"Baseline Medical WER: {baseline:.2f}\")\n",
    "    print(f\"Models Medical WER: {models:.2f}\")\n"
   ]
  },
  {
   "cell_type": "code",
   "execution_count": 4,
   "id": "aa88f36f-ffe6-4620-aac4-6a00251bdd2f",
   "metadata": {},
   "outputs": [],
   "source": [
    "medical_terms = load_medical_dict('medical_terms.json')"
   ]
  },
  {
   "cell_type": "code",
   "execution_count": 11,
   "id": "3bcac9c7-b6e0-4012-91bb-6cf387fcc03d",
   "metadata": {},
   "outputs": [
    {
     "name": "stdout",
     "output_type": "stream",
     "text": [
      "Baseline Medical WER: 0.04\n",
      "Models Medical WER: 0.26\n"
     ]
    }
   ],
   "source": [
    "get_medical_wer('n-shot/gpt3-5/babylon/few_babylon.csv')"
   ]
  },
  {
   "cell_type": "code",
   "execution_count": null,
   "id": "50b9aac3-9637-4be1-bee7-a8f56c359e59",
   "metadata": {},
   "outputs": [],
   "source": []
  }
 ],
 "metadata": {
  "kernelspec": {
   "display_name": "Python 3 (ipykernel)",
   "language": "python",
   "name": "python3"
  },
  "language_info": {
   "codemirror_mode": {
    "name": "ipython",
    "version": 3
   },
   "file_extension": ".py",
   "mimetype": "text/x-python",
   "name": "python",
   "nbconvert_exporter": "python",
   "pygments_lexer": "ipython3",
   "version": "3.10.13"
  }
 },
 "nbformat": 4,
 "nbformat_minor": 5
}
